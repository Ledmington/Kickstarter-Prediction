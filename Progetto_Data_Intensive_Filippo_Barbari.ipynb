{
  "nbformat": 4,
  "nbformat_minor": 0,
  "metadata": {
    "colab": {
      "name": "Progetto Data Intensive Filippo Barbari.ipynb",
      "provenance": [],
      "collapsed_sections": []
    },
    "kernelspec": {
      "name": "python3",
      "display_name": "Python 3"
    },
    "language_info": {
      "name": "python"
    },
    "accelerator": "GPU"
  },
  "cells": [
    {
      "cell_type": "markdown",
      "metadata": {
        "id": "fU98R_z0eoKE"
      },
      "source": [
        "# Predire il successo di una campagna Kickstarter\n",
        "**Programmazione di Applicazioni Data Intensive**  \n",
        "Laurea in Ingegneria e Scienze Informatiche  \n",
        "a.a. 2020/2021  \n",
        "Filippo Barbari matricola 0000874589"
      ]
    },
    {
      "cell_type": "markdown",
      "metadata": {
        "id": "wR35zqB6hu8n"
      },
      "source": [
        "## Descrizione del problema e analisi esplorativa\n",
        "In questo progetto, si vuole realizzare un modello capace di predire il successo o meno di una campagna Kickstarter. Una campagna Kickstarter è essenzialmente una raccolta fondi che una singola persona o un gruppo possono creare sul sito [Kickstarter](https://www.kickstarter.com) per finanziare un progetto. Per lanciare una campagna, è necessario darle un nome, fornire una descrizione, ma soprattutto specificare la somma di denaro che si intende raccogliere e la data entro cui lo si vuole fare. Non è possibile chiudere in anticipo la campagna oppure prolungarla.  \n",
        "Tra le campagne Kickstarter più famose si ricordano Planetary Annihilation (videogioco di strategia in tempo reale per PC) che raccolse 2,228,000$ in 30 giorni e FrostHaven (un gioco da tavolo cooperativo) che ha raccolto oltre 13 milioni di dollari.  \n",
        "Si vuole rendere il problema più realistico possibile utilizzando solamente i dati noti al momento del lancio della campagna come: la data di lancio, le categorie in cui rientra, la somma richiesta e la deadline prefissata."
      ]
    },
    {
      "cell_type": "markdown",
      "metadata": {
        "id": "mBRq2xghiMI3"
      },
      "source": [
        "Prima di tutto, importiamo le librerie necessarie."
      ]
    },
    {
      "cell_type": "code",
      "metadata": {
        "id": "jHS2NyQMiP_H"
      },
      "source": [
        "import os.path\n",
        "import numpy as np\n",
        "import pandas as pd\n",
        "import matplotlib.pyplot as plt\n",
        "from sklearn.model_selection import train_test_split\n",
        "from sklearn.metrics import mean_squared_error\n",
        "from sklearn.linear_model import Perceptron\n",
        "from sklearn.pipeline import Pipeline\n",
        "from sklearn.preprocessing import StandardScaler\n",
        "from sklearn.model_selection import KFold\n",
        "from sklearn.model_selection import cross_val_score\n",
        "from sklearn.model_selection import GridSearchCV\n",
        "from sklearn.linear_model import LogisticRegression\n",
        "from sklearn.svm import SVC\n",
        "from sklearn.neighbors import KNeighborsClassifier\n",
        "from sklearn.tree import DecisionTreeClassifier\n",
        "from sklearn.ensemble import RandomForestClassifier\n",
        "from sklearn.dummy import DummyClassifier\n",
        "from sklearn.metrics import confusion_matrix, precision_score, recall_score, f1_score\n",
        "import math\n",
        "from scipy import stats\n",
        "%matplotlib inline"
      ],
      "execution_count": 207,
      "outputs": []
    },
    {
      "cell_type": "markdown",
      "metadata": {
        "id": "iBuQGqioimS_"
      },
      "source": [
        "### Caricamento dati"
      ]
    },
    {
      "cell_type": "markdown",
      "metadata": {
        "id": "7titqwfckyvM"
      },
      "source": [
        "Scarichiamo da GitHub il file `kickstarter.csv`. Il dataset originale è disponibile [qui](https://www.kaggle.com/yashkantharia/kickstarter-campaigns)."
      ]
    },
    {
      "cell_type": "code",
      "metadata": {
        "id": "JBgFiS5Rttzo"
      },
      "source": [
        "file_csv_url = \"https://raw.githubusercontent.com/Ledmington/Progetto-Data-Intensive/master/Kickstarter_projects_Feb19.csv\"\n",
        "file_csv_name = \"kickstarter.csv\"\n",
        "\n",
        "if not os.path.exists(file_csv_name):\n",
        "    from urllib.request import urlretrieve\n",
        "    urlretrieve(file_csv_url, file_csv_name)"
      ],
      "execution_count": 208,
      "outputs": []
    },
    {
      "cell_type": "code",
      "metadata": {
        "colab": {
          "base_uri": "https://localhost:8080/",
          "height": 0
        },
        "id": "RG6XANffuGrc",
        "outputId": "427a9fec-eea9-4c49-dc7e-6a2799861300"
      },
      "source": [
        "with open(file_csv_name) as dataFile:\n",
        "    data_raw = pd.read_csv(dataFile, sep=\",\")\n",
        "\n",
        "print(\"Caricati {} record.\".format(len(data_raw)))"
      ],
      "execution_count": 209,
      "outputs": [
        {
          "output_type": "stream",
          "text": [
            "Caricati 192548 record.\n"
          ],
          "name": "stdout"
        }
      ]
    },
    {
      "cell_type": "markdown",
      "metadata": {
        "id": "1ZeqpmxCjLjN"
      },
      "source": [
        "### Significato delle features"
      ]
    },
    {
      "cell_type": "code",
      "metadata": {
        "colab": {
          "base_uri": "https://localhost:8080/",
          "height": 163
        },
        "id": "ScomjdQCjQ_h",
        "outputId": "79b26588-d267-4d5f-b031-b5fc925cedcb"
      },
      "source": [
        "data_raw.head(1)"
      ],
      "execution_count": 210,
      "outputs": [
        {
          "output_type": "execute_result",
          "data": {
            "text/html": [
              "<div>\n",
              "<style scoped>\n",
              "    .dataframe tbody tr th:only-of-type {\n",
              "        vertical-align: middle;\n",
              "    }\n",
              "\n",
              "    .dataframe tbody tr th {\n",
              "        vertical-align: top;\n",
              "    }\n",
              "\n",
              "    .dataframe thead th {\n",
              "        text-align: right;\n",
              "    }\n",
              "</style>\n",
              "<table border=\"1\" class=\"dataframe\">\n",
              "  <thead>\n",
              "    <tr style=\"text-align: right;\">\n",
              "      <th></th>\n",
              "      <th>id</th>\n",
              "      <th>name</th>\n",
              "      <th>currency</th>\n",
              "      <th>main_category</th>\n",
              "      <th>sub_category</th>\n",
              "      <th>launched_at</th>\n",
              "      <th>deadline</th>\n",
              "      <th>duration</th>\n",
              "      <th>goal_usd</th>\n",
              "      <th>city</th>\n",
              "      <th>state</th>\n",
              "      <th>country</th>\n",
              "      <th>blurb_length</th>\n",
              "      <th>name_length</th>\n",
              "      <th>status</th>\n",
              "      <th>start_month</th>\n",
              "      <th>end_month</th>\n",
              "      <th>start_Q</th>\n",
              "      <th>end_Q</th>\n",
              "      <th>usd_pledged</th>\n",
              "    </tr>\n",
              "  </thead>\n",
              "  <tbody>\n",
              "    <tr>\n",
              "      <th>0</th>\n",
              "      <td>1687733153</td>\n",
              "      <td>Socks of Speed and Socks of Elvenkind</td>\n",
              "      <td>USD</td>\n",
              "      <td>games</td>\n",
              "      <td>Tabletop Games</td>\n",
              "      <td>2018-10-30 20:00:02</td>\n",
              "      <td>2018-11-15 17:59:00</td>\n",
              "      <td>16.0</td>\n",
              "      <td>2000.0</td>\n",
              "      <td>Menasha</td>\n",
              "      <td>WI</td>\n",
              "      <td>US</td>\n",
              "      <td>14</td>\n",
              "      <td>7</td>\n",
              "      <td>successful</td>\n",
              "      <td>10</td>\n",
              "      <td>11</td>\n",
              "      <td>Q4</td>\n",
              "      <td>Q4</td>\n",
              "      <td>6061.0</td>\n",
              "    </tr>\n",
              "  </tbody>\n",
              "</table>\n",
              "</div>"
            ],
            "text/plain": [
              "           id                                   name  ... end_Q usd_pledged\n",
              "0  1687733153  Socks of Speed and Socks of Elvenkind  ...    Q4      6061.0\n",
              "\n",
              "[1 rows x 20 columns]"
            ]
          },
          "metadata": {
            "tags": []
          },
          "execution_count": 210
        }
      ]
    },
    {
      "cell_type": "markdown",
      "metadata": {
        "id": "Q-i4snmTr8v2"
      },
      "source": [
        "* `id` è un numero identificativo univoco di una campagna Kickstarter\n",
        "* `name` è il nome della campagna Kickstarter\n",
        "* `currency` è la valuta in cui era espressa la somma richiesta (l'ammontare è stato convertito in USD)\n",
        "* `main_category` è la categoria principale del progetto riguardante la campagna\n",
        "* `sub_category` è la categoria secondaria del progetto\n",
        "* `launched_at` è la data e l'ora del lancio della campagna\n",
        "* `deadline` è la data in cui viene chiusa la campagna\n",
        "* `duration` è il numero di giorni trascorsi prima della chiusura della campagna\n",
        "* `goal_usd` è la somma di denaro richiesta espressa in USD\n",
        "* `city` è la città di appartenenza del gruppo che ha lanciato la campagna\n",
        "* `state` è lo stato/regione di provenienza del gruppo che ha lanciato la campagna\n",
        "* `country` è il paese di provenienza del gruppo che ha lanciato la campagna\n",
        "* `blurb_length` è il numero di parole della descrizione della campagna\n",
        "* `name_length` è il numero di parole del nome della campagna\n",
        "* `status` è il risultato finale della campagna (la variabile che si vuole predire)\n",
        "* `start_month` è il mese in cui è stata lanciata la campagna\n",
        "* `end_month` è il mese in cui è terminata la campagna\n",
        "* `start_Q` è il \"quarter\" (o trimestre) in cui è stata lanciata la campagna\n",
        "* `end_Q` è il \"quarter\" (o trimestre) in cui è terminata la campagna\n",
        "* `usd_pledged` è la somma di denaro effettivamente raccolta espressa in USD"
      ]
    },
    {
      "cell_type": "markdown",
      "metadata": {
        "id": "UbTD0Om0fblo"
      },
      "source": [
        "Osserviamo l'occupazione iniziale in memoria dell'intero dataset. La confronteremo più avanti con la dimensione del dataset privato dei dati ridondanti o derivati."
      ]
    },
    {
      "cell_type": "code",
      "metadata": {
        "colab": {
          "base_uri": "https://localhost:8080/",
          "height": 0
        },
        "id": "Tvt2uRc_e6x4",
        "outputId": "13d6729b-8c43-41b5-9e76-aad9e5e91ab1"
      },
      "source": [
        "data_raw.info(memory_usage=\"deep\")"
      ],
      "execution_count": 211,
      "outputs": [
        {
          "output_type": "stream",
          "text": [
            "<class 'pandas.core.frame.DataFrame'>\n",
            "RangeIndex: 192548 entries, 0 to 192547\n",
            "Data columns (total 20 columns):\n",
            " #   Column         Non-Null Count   Dtype  \n",
            "---  ------         --------------   -----  \n",
            " 0   id             192548 non-null  int64  \n",
            " 1   name           192548 non-null  object \n",
            " 2   currency       192548 non-null  object \n",
            " 3   main_category  192548 non-null  object \n",
            " 4   sub_category   192548 non-null  object \n",
            " 5   launched_at    192548 non-null  object \n",
            " 6   deadline       192548 non-null  object \n",
            " 7   duration       192548 non-null  float64\n",
            " 8   goal_usd       192548 non-null  float64\n",
            " 9   city           192548 non-null  object \n",
            " 10  state          192548 non-null  object \n",
            " 11  country        192548 non-null  object \n",
            " 12  blurb_length   192548 non-null  int64  \n",
            " 13  name_length    192548 non-null  int64  \n",
            " 14  status         192548 non-null  object \n",
            " 15  start_month    192548 non-null  int64  \n",
            " 16  end_month      192548 non-null  int64  \n",
            " 17  start_Q        192548 non-null  object \n",
            " 18  end_Q          192548 non-null  object \n",
            " 19  usd_pledged    192548 non-null  float64\n",
            "dtypes: float64(3), int64(5), object(12)\n",
            "memory usage: 159.6 MB\n"
          ],
          "name": "stdout"
        }
      ]
    },
    {
      "cell_type": "markdown",
      "metadata": {
        "id": "tUZ6l8ogYxYf"
      },
      "source": [
        "### Eliminazione dati mancanti, inutili, ridondanti o derivati"
      ]
    },
    {
      "cell_type": "markdown",
      "metadata": {
        "id": "_2Cju6rlf9EA"
      },
      "source": [
        "Osserviamo subito che il dataset non contiene dati mancanti."
      ]
    },
    {
      "cell_type": "code",
      "metadata": {
        "colab": {
          "base_uri": "https://localhost:8080/",
          "height": 0
        },
        "id": "0X0P7LKw6xdL",
        "outputId": "356a7dc1-ebd4-4645-b202-ab4584d52888"
      },
      "source": [
        "data_raw.isna().sum()"
      ],
      "execution_count": 212,
      "outputs": [
        {
          "output_type": "execute_result",
          "data": {
            "text/plain": [
              "id               0\n",
              "name             0\n",
              "currency         0\n",
              "main_category    0\n",
              "sub_category     0\n",
              "launched_at      0\n",
              "deadline         0\n",
              "duration         0\n",
              "goal_usd         0\n",
              "city             0\n",
              "state            0\n",
              "country          0\n",
              "blurb_length     0\n",
              "name_length      0\n",
              "status           0\n",
              "start_month      0\n",
              "end_month        0\n",
              "start_Q          0\n",
              "end_Q            0\n",
              "usd_pledged      0\n",
              "dtype: int64"
            ]
          },
          "metadata": {
            "tags": []
          },
          "execution_count": 212
        }
      ]
    },
    {
      "cell_type": "markdown",
      "metadata": {
        "id": "II8jmS5GilD2"
      },
      "source": [
        "Eliminiamo le colonne `name`, `currency`, `blurb_length`, `name_length` perchè non sono utili ai fini di questo progetto."
      ]
    },
    {
      "cell_type": "code",
      "metadata": {
        "id": "uhuTxMmUkA-u"
      },
      "source": [
        "data_raw.drop(labels=[\"name\", \"currency\", \"blurb_length\", \"name_length\"], axis=1, inplace=True)"
      ],
      "execution_count": 213,
      "outputs": []
    },
    {
      "cell_type": "markdown",
      "metadata": {
        "id": "xozv48G8Y4g-"
      },
      "source": [
        "Eliminiamo la colonna `id` perchè è ridondante. Come identificativo dei record utilizzeremo l'index di default dei DataFrame Pandas."
      ]
    },
    {
      "cell_type": "code",
      "metadata": {
        "id": "0-vvHpOQDLbf"
      },
      "source": [
        "data_raw.drop(labels=[\"id\"], axis=1, inplace=True)"
      ],
      "execution_count": 214,
      "outputs": []
    },
    {
      "cell_type": "markdown",
      "metadata": {
        "id": "m1iBCm4wO9aV"
      },
      "source": [
        "Eliminiamo le colonne `deadline`, `start_month`, `end_month`, `start_Q` e `end_Q` perchè sono dati derivati dalle colonne `launched_at` e `duration`. Qui scegliamo di utilizzare `duration`, ovvero la durata in giorni prefissata per la campagna, invece della data di fine, per semplificare il preprocessing delle feature."
      ]
    },
    {
      "cell_type": "code",
      "metadata": {
        "id": "9oBe7pXqPc5a"
      },
      "source": [
        "data_raw.drop(labels=[\"deadline\", \"start_month\", \"end_month\", \"start_Q\", \"end_Q\"], axis=1, inplace=True)"
      ],
      "execution_count": 215,
      "outputs": []
    },
    {
      "cell_type": "markdown",
      "metadata": {
        "id": "hFG6PhjzPpMr"
      },
      "source": [
        "Eliminiamo la colonna `usd_pledged` perchè contiene la soluzione."
      ]
    },
    {
      "cell_type": "code",
      "metadata": {
        "id": "dNAuhujyPz6F"
      },
      "source": [
        "data_raw.drop(labels=[\"usd_pledged\"], axis=1, inplace=True)"
      ],
      "execution_count": 216,
      "outputs": []
    },
    {
      "cell_type": "markdown",
      "metadata": {
        "id": "887mPBwC9jmX"
      },
      "source": [
        "Le tre colonne categoriche `city`, `state` e `country` rappresentano un insieme di dati particolare. La colonna `state` rappresenta lo stato, per paesi come gli USA oppure il Regno Unito, oppure una regione per paesi come l'Italia. Tuttavia, alcuni paesi come la Germania, la Nuova Zelanda o l'Afghanistan, apparentemente, non sono suddivisi in questo modo e i record con riferimento a questi paesi hanno uguali valori di `city` e `state`. Per questo motivo, rimuoviamo la colonna `state`.  \n",
        "Inoltre, come è possibile osservare dall'estratto riportato qui sotto, alcuni record presentano dati inconsistenti per quanto riguarda la colonna `country`. Ad esempio, il record 47 indica come città Kabul (capitale dell'Afghanistan) e come paese gli Stati Uniti. Un altro esempio, il record 74 indica come città Bangkok (capitale della Thailandia) e come paese la Francia. Crediamo che questa \"inconsistenza\" sia dovuto al fatto che Kickstarter permette la creazione di una campagna solamente se si possiede un conto bancario o carta di credito in un ristretto insieme di paesi. Per questo motivo, più della metà delle campagne Kickstarter risultano come se fossero state lanciate dagli US.  \n",
        "Per evitare che tali inconsistenze possano in qualche modo alterare l'esito dell'addestramento dei modelli, abbiamo scelto di eliminare tutte e tre le colonne in questione."
      ]
    },
    {
      "cell_type": "code",
      "metadata": {
        "colab": {
          "base_uri": "https://localhost:8080/",
          "height": 200
        },
        "id": "608BBHNNRlfA",
        "outputId": "769c74da-75a8-424f-d510-2c13e0b836eb"
      },
      "source": [
        "(data_raw[data_raw[\"city\"] == data_raw[\"state\"]]).head()"
      ],
      "execution_count": 217,
      "outputs": [
        {
          "output_type": "execute_result",
          "data": {
            "text/html": [
              "<div>\n",
              "<style scoped>\n",
              "    .dataframe tbody tr th:only-of-type {\n",
              "        vertical-align: middle;\n",
              "    }\n",
              "\n",
              "    .dataframe tbody tr th {\n",
              "        vertical-align: top;\n",
              "    }\n",
              "\n",
              "    .dataframe thead th {\n",
              "        text-align: right;\n",
              "    }\n",
              "</style>\n",
              "<table border=\"1\" class=\"dataframe\">\n",
              "  <thead>\n",
              "    <tr style=\"text-align: right;\">\n",
              "      <th></th>\n",
              "      <th>main_category</th>\n",
              "      <th>sub_category</th>\n",
              "      <th>launched_at</th>\n",
              "      <th>duration</th>\n",
              "      <th>goal_usd</th>\n",
              "      <th>city</th>\n",
              "      <th>state</th>\n",
              "      <th>country</th>\n",
              "      <th>status</th>\n",
              "    </tr>\n",
              "  </thead>\n",
              "  <tbody>\n",
              "    <tr>\n",
              "      <th>7</th>\n",
              "      <td>design</td>\n",
              "      <td>Graphic Design</td>\n",
              "      <td>2018-07-17 21:36:14</td>\n",
              "      <td>30.0</td>\n",
              "      <td>1133.68788</td>\n",
              "      <td>Berlin</td>\n",
              "      <td>Berlin</td>\n",
              "      <td>DE</td>\n",
              "      <td>successful</td>\n",
              "    </tr>\n",
              "    <tr>\n",
              "      <th>47</th>\n",
              "      <td>journalism</td>\n",
              "      <td>Journalism</td>\n",
              "      <td>2012-05-04 23:35:02</td>\n",
              "      <td>5.0</td>\n",
              "      <td>500.00000</td>\n",
              "      <td>Kabul</td>\n",
              "      <td>Kabul</td>\n",
              "      <td>US</td>\n",
              "      <td>successful</td>\n",
              "    </tr>\n",
              "    <tr>\n",
              "      <th>74</th>\n",
              "      <td>photography</td>\n",
              "      <td>Places</td>\n",
              "      <td>2016-02-28 10:18:02</td>\n",
              "      <td>47.0</td>\n",
              "      <td>5668.43940</td>\n",
              "      <td>Bangkok</td>\n",
              "      <td>Bangkok</td>\n",
              "      <td>FR</td>\n",
              "      <td>successful</td>\n",
              "    </tr>\n",
              "    <tr>\n",
              "      <th>79</th>\n",
              "      <td>journalism</td>\n",
              "      <td>Journalism</td>\n",
              "      <td>2010-06-25 03:24:43</td>\n",
              "      <td>30.0</td>\n",
              "      <td>2200.00000</td>\n",
              "      <td>Istanbul</td>\n",
              "      <td>Istanbul</td>\n",
              "      <td>US</td>\n",
              "      <td>successful</td>\n",
              "    </tr>\n",
              "    <tr>\n",
              "      <th>96</th>\n",
              "      <td>publishing</td>\n",
              "      <td>Art Books</td>\n",
              "      <td>2016-11-13 00:35:29</td>\n",
              "      <td>22.0</td>\n",
              "      <td>800.00000</td>\n",
              "      <td>Vienna</td>\n",
              "      <td>Vienna</td>\n",
              "      <td>US</td>\n",
              "      <td>successful</td>\n",
              "    </tr>\n",
              "  </tbody>\n",
              "</table>\n",
              "</div>"
            ],
            "text/plain": [
              "   main_category    sub_category  ... country      status\n",
              "7         design  Graphic Design  ...      DE  successful\n",
              "47    journalism      Journalism  ...      US  successful\n",
              "74   photography          Places  ...      FR  successful\n",
              "79    journalism      Journalism  ...      US  successful\n",
              "96    publishing       Art Books  ...      US  successful\n",
              "\n",
              "[5 rows x 9 columns]"
            ]
          },
          "metadata": {
            "tags": []
          },
          "execution_count": 217
        }
      ]
    },
    {
      "cell_type": "code",
      "metadata": {
        "id": "tb8v6cNDFfz7"
      },
      "source": [
        "data_raw.drop(labels=[\"city\", \"state\", \"country\"], axis=1, inplace=True)"
      ],
      "execution_count": 218,
      "outputs": []
    },
    {
      "cell_type": "markdown",
      "metadata": {
        "id": "X3pFrnXSWbAN"
      },
      "source": [
        "Infine, notiamo che `sub_category` assume 159 valori distinti. Questa esplosione di variabili binarie potrebbe influenzare negativamente il successo della modellazione. Inoltre, non è un dato completamente indipendente da `main_category` e per questo motivo, lo eliminiamo dal dataset."
      ]
    },
    {
      "cell_type": "code",
      "metadata": {
        "colab": {
          "base_uri": "https://localhost:8080/",
          "height": 0
        },
        "id": "ai9jG3KOhVVS",
        "outputId": "14c0978c-3016-4b06-b77e-273befb5a01d"
      },
      "source": [
        "data_raw[\"sub_category\"].nunique()"
      ],
      "execution_count": 219,
      "outputs": [
        {
          "output_type": "execute_result",
          "data": {
            "text/plain": [
              "159"
            ]
          },
          "metadata": {
            "tags": []
          },
          "execution_count": 219
        }
      ]
    },
    {
      "cell_type": "code",
      "metadata": {
        "id": "qAworUaZhcHv"
      },
      "source": [
        "data_raw.drop(\"sub_category\", axis=1, inplace=True)"
      ],
      "execution_count": 220,
      "outputs": []
    },
    {
      "cell_type": "code",
      "metadata": {
        "colab": {
          "base_uri": "https://localhost:8080/",
          "height": 0
        },
        "id": "5_RILSt8FrSQ",
        "outputId": "1ffc33a6-1762-4146-c834-fb4011650afa"
      },
      "source": [
        "data_raw.info(memory_usage=\"deep\")"
      ],
      "execution_count": 221,
      "outputs": [
        {
          "output_type": "stream",
          "text": [
            "<class 'pandas.core.frame.DataFrame'>\n",
            "RangeIndex: 192548 entries, 0 to 192547\n",
            "Data columns (total 5 columns):\n",
            " #   Column         Non-Null Count   Dtype  \n",
            "---  ------         --------------   -----  \n",
            " 0   main_category  192548 non-null  object \n",
            " 1   launched_at    192548 non-null  object \n",
            " 2   duration       192548 non-null  float64\n",
            " 3   goal_usd       192548 non-null  float64\n",
            " 4   status         192548 non-null  object \n",
            "dtypes: float64(2), object(3)\n",
            "memory usage: 40.7 MB\n"
          ],
          "name": "stdout"
        }
      ]
    },
    {
      "cell_type": "markdown",
      "metadata": {
        "id": "-G7paIuYw--t"
      },
      "source": [
        "### Conversione dati"
      ]
    },
    {
      "cell_type": "markdown",
      "metadata": {
        "id": "kSGCSpw0whLK"
      },
      "source": [
        "Creiamo `data`, una copia del dataset in cui andremo a \"ripulire\" i dati.  \n",
        "Trasformiamo `main_category` e `status` in dati categorici.  \n",
        "Trasformiamo `duration` in intero perchè rappresenta il numero di giorni di durata della campagna."
      ]
    },
    {
      "cell_type": "code",
      "metadata": {
        "id": "Aqcf0s50Y9qA"
      },
      "source": [
        "data = data_raw\n",
        "data[\"main_category\"] = data[\"main_category\"].astype(\"category\")\n",
        "data[\"status\"] = data[\"status\"].astype(\"category\")\n",
        "data[\"duration\"] = data[\"duration\"].astype(\"int64\")"
      ],
      "execution_count": 222,
      "outputs": []
    },
    {
      "cell_type": "markdown",
      "metadata": {
        "id": "czR9lItwgunA"
      },
      "source": [
        "Riguardo a `launched_at`, prima di tutto la trasformiamo in `datetime64` per poterla maneggiare meglio. Dopo di ciò, vogliamo estrapolare da essa il numero del giorno all'interno dell'anno (per fare si che, ad esempio, il primo gennaio risulti come 0 e il 31 dicembre risulti come 364). Per fare ciò, utilizziamo l'attributo `dayofyear` della classe `Timestamp` di Pandas e sottraiamo 1."
      ]
    },
    {
      "cell_type": "code",
      "metadata": {
        "id": "LIBMxcOai4eR"
      },
      "source": [
        "data[\"launched_at\"] = data[\"launched_at\"].astype(\"datetime64\")\n",
        "data[\"launched_at\"] = pd.Series(x.dayofyear-1 for x in data[\"launched_at\"]).astype(\"int64\")"
      ],
      "execution_count": 223,
      "outputs": []
    },
    {
      "cell_type": "markdown",
      "metadata": {
        "id": "ZEvwLQl2UUmc"
      },
      "source": [
        "Infine, per maggiore chiarezza, rinomiamo `launched_at` in `launch_day` e `duration` in `days`."
      ]
    },
    {
      "cell_type": "code",
      "metadata": {
        "id": "rshz49sBVcUC"
      },
      "source": [
        "data = data_raw.rename(columns={\"launched_at\" : \"launch_day\",\n",
        "                                \"duration\": \"days\"})"
      ],
      "execution_count": 224,
      "outputs": []
    },
    {
      "cell_type": "markdown",
      "metadata": {
        "id": "lw-3zAAymCm2"
      },
      "source": [
        "Possiamo notare come la dimensione del dataset sia diminuita da circa 150MB iniziali a circa 5MB."
      ]
    },
    {
      "cell_type": "code",
      "metadata": {
        "colab": {
          "base_uri": "https://localhost:8080/",
          "height": 0
        },
        "id": "gGSa5i2JmiEe",
        "outputId": "453c7d94-affb-4a72-abca-cbd5c11820c2"
      },
      "source": [
        "data.info(memory_usage=\"deep\")"
      ],
      "execution_count": 225,
      "outputs": [
        {
          "output_type": "stream",
          "text": [
            "<class 'pandas.core.frame.DataFrame'>\n",
            "RangeIndex: 192548 entries, 0 to 192547\n",
            "Data columns (total 5 columns):\n",
            " #   Column         Non-Null Count   Dtype   \n",
            "---  ------         --------------   -----   \n",
            " 0   main_category  192548 non-null  category\n",
            " 1   launch_day     192548 non-null  int64   \n",
            " 2   days           192548 non-null  int64   \n",
            " 3   goal_usd       192548 non-null  float64 \n",
            " 4   status         192548 non-null  category\n",
            "dtypes: category(2), float64(1), int64(2)\n",
            "memory usage: 4.8 MB\n"
          ],
          "name": "stdout"
        }
      ]
    },
    {
      "cell_type": "markdown",
      "metadata": {
        "id": "t7HV9J7pnDsC"
      },
      "source": [
        "### Esplorazione singole features"
      ]
    },
    {
      "cell_type": "markdown",
      "metadata": {
        "id": "n9gR9wWf58-3"
      },
      "source": [
        "La distribuzione dei record tra le varie `main_category` non è uniforme anche se non viè una grande differenza tra quelle più frequenti e quelle meno frequenti."
      ]
    },
    {
      "cell_type": "code",
      "metadata": {
        "colab": {
          "base_uri": "https://localhost:8080/",
          "height": 466
        },
        "id": "bxgTe3WBnJnA",
        "outputId": "4c383416-090e-4b21-e6c5-870020091adf"
      },
      "source": [
        "data[\"main_category\"].value_counts().plot.pie(figsize=(8, 8));"
      ],
      "execution_count": 226,
      "outputs": [
        {
          "output_type": "display_data",
          "data": {
            "image/png": "[encoded data removed]",
            "text/plain": [
              "<Figure size 576x576 with 1 Axes>"
            ]
          },
          "metadata": {
            "tags": []
          }
        }
      ]
    },
    {
      "cell_type": "markdown",
      "metadata": {
        "id": "XV5aoeLrheMv"
      },
      "source": [
        "Riguardo a `launch_date` notiamo che i dati sono distribuiti in maniera abbastanza uniforme, tranne per l'ultimo periodo dell'anno. Intorno agli ultimi 20 giorni dell'anno, troviamo circa la metà delle campagne rispetto agli altri periodi dell'anno."
      ]
    },
    {
      "cell_type": "code",
      "metadata": {
        "id": "XIVQUIMAMxe8",
        "colab": {
          "base_uri": "https://localhost:8080/",
          "height": 336
        },
        "outputId": "c7c8806d-79a5-4f5f-ebd7-035b73131be7"
      },
      "source": [
        "fig, axis = plt.subplots(nrows=1, ncols=2, figsize=(20, 5))\n",
        "\n",
        "axis[0].boxplot(data[\"launch_day\"], showmeans=True)\n",
        "axis[0].set_title(\"Launch date boxplot\")\n",
        "axis[0].set_ylabel(\"Frequency\");\n",
        "\n",
        "axis[1].hist(data[\"launch_day\"], bins=24)\n",
        "axis[1].set_title(\"Launch date distribution\")\n",
        "axis[1].set_ylabel(\"Frequency\");"
      ],
      "execution_count": 227,
      "outputs": [
        {
          "output_type": "display_data",
          "data": {
            "image/png": "[encoded data removed]",
            "text/plain": [
              "<Figure size 1440x360 with 2 Axes>"
            ]
          },
          "metadata": {
            "tags": [],
            "needs_background": "light"
          }
        }
      ]
    },
    {
      "cell_type": "markdown",
      "metadata": {
        "id": "oWNLKSZ3Cggf"
      },
      "source": [
        "Come possiamo notare dai grafici riportati qui sotto, i dati all'interno di `days` sono estremamente sbilanciati in quanto più della metà dei valori sono 30. Nonostante ciò produca un boxplot con un elevato numero di outliers, questa informazione rispecchia un comportamento del tutto normale. Infatti, i dati confermano che sia molto comune aprire una campagna Kickstarter della durata di 30 giorni."
      ]
    },
    {
      "cell_type": "code",
      "metadata": {
        "id": "NcTTYT0xZdCX",
        "colab": {
          "base_uri": "https://localhost:8080/",
          "height": 336
        },
        "outputId": "ade1f850-179c-4317-ffd7-0a4be630a5f4"
      },
      "source": [
        "fig, axis = plt.subplots(nrows=1, ncols=2, figsize=(20, 5))\n",
        "\n",
        "axis[0].boxplot(data[\"days\"], showmeans=True)\n",
        "axis[0].set_title(\"Days distribution boxplot\")\n",
        "axis[0].set_ylabel(\"Values\");\n",
        "\n",
        "axis[1].hist(data[\"days\"], bins=90)\n",
        "axis[1].set_title(\"Days distribution histogram\")\n",
        "axis[1].set_ylabel(\"Frequency\");"
      ],
      "execution_count": 228,
      "outputs": [
        {
          "output_type": "display_data",
          "data": {
            "image/png": "[encoded data removed]",
            "text/plain": [
              "<Figure size 1440x360 with 2 Axes>"
            ]
          },
          "metadata": {
            "tags": [],
            "needs_background": "light"
          }
        }
      ]
    },
    {
      "cell_type": "markdown",
      "metadata": {
        "id": "s_npUutObtqz"
      },
      "source": [
        "I valori di `goal_usd` non sono uniformemente distribuiti. Come possiamo notare dal grafico, nell'intervallo [0;500] e [33e3;12e6] sono presenti all'incirca lo stesso numero di valori. La maggior parte dei valori, infatti, pare essere concentrata all'incirca tra 500 e 5000 doliari."
      ]
    },
    {
      "cell_type": "code",
      "metadata": {
        "id": "0rAjcy5PDOGE",
        "colab": {
          "base_uri": "https://localhost:8080/",
          "height": 473
        },
        "outputId": "4aadfa7c-bb3a-4ceb-f7e1-88f3006d4e88"
      },
      "source": [
        "pd.qcut(data[\"goal_usd\"], q=10).value_counts().sort_index().plot.bar(figsize=(20, 5));"
      ],
      "execution_count": 229,
      "outputs": [
        {
          "output_type": "display_data",
          "data": {
            "image/png": "[encoded data removed]",
            "text/plain": [
              "<Figure size 1440x360 with 1 Axes>"
            ]
          },
          "metadata": {
            "tags": [],
            "needs_background": "light"
          }
        }
      ]
    },
    {
      "cell_type": "markdown",
      "metadata": {
        "id": "u2py3AxVs7lU"
      },
      "source": [
        "Infine, possiamo notare che quasi due terzi dei record del dataset sono etichettati come \"successful\". Questa distribuzione andrà tenuta in considerazione in fase di modellazione."
      ]
    },
    {
      "cell_type": "code",
      "metadata": {
        "id": "CBf1RUBCsxJx",
        "colab": {
          "base_uri": "https://localhost:8080/",
          "height": 357
        },
        "outputId": "89db46f5-ad10-4c98-9c45-739b32bf4fd7"
      },
      "source": [
        "data[\"status\"].value_counts().plot.pie(figsize=(6, 6));"
      ],
      "execution_count": 230,
      "outputs": [
        {
          "output_type": "display_data",
          "data": {
            "image/png": "[encoded data removed]",
            "text/plain": [
              "<Figure size 432x432 with 1 Axes>"
            ]
          },
          "metadata": {
            "tags": []
          }
        }
      ]
    },
    {
      "cell_type": "markdown",
      "metadata": {
        "id": "Z5vf_pRbnGXB"
      },
      "source": [
        "### Esplorazione relazioni tra features"
      ]
    },
    {
      "cell_type": "markdown",
      "metadata": {
        "id": "YOtQepuxtbnH"
      },
      "source": [
        "Vogliamo verificare se esiste una relazione tra `goal_usd` e `status`. E' ragionevole pensare che, all'aumentare della somma da raccogliere diminuisca la probabilità di successo di una campagna.  \n",
        "Effettivamente, il numero di campagne fallite è pari o maggiore al numero di campagne completate nei due intervalli più a destra. Mentre le campagne completate risultano evidentemente maggiori in tutti gli altri intervalli, in particolar modo in quelli più a sinistra."
      ]
    },
    {
      "cell_type": "code",
      "metadata": {
        "id": "qYYEEzQ8tHPg",
        "colab": {
          "base_uri": "https://localhost:8080/",
          "height": 435
        },
        "outputId": "949f8d0e-0f7b-4df4-fe1b-357a6c3cab32"
      },
      "source": [
        "usd_over_status = data[[\"status\", \"goal_usd\"]].copy()\n",
        "usd_over_status.groupby([pd.qcut(usd_over_status[\"goal_usd\"], q=10), \"status\"]).size().unstack(\"status\").plot.bar();"
      ],
      "execution_count": 231,
      "outputs": [
        {
          "output_type": "display_data",
          "data": {
            "image/png": "[encoded data removed]",
            "text/plain": [
              "<Figure size 432x288 with 1 Axes>"
            ]
          },
          "metadata": {
            "tags": [],
            "needs_background": "light"
          }
        }
      ]
    },
    {
      "cell_type": "markdown",
      "metadata": {
        "id": "3bRT7ATLxuaN"
      },
      "source": [
        "Vogliamo verificare se esiste una relazione tra `status` e `days`. E' ragionevole pensare che, all'aumentare della durata di una campagna aumenti anche la probabilità di successo di tale campagna.  \n",
        "I due grafici riportano all'incirca la stessa distribuzione. La maggiore frequenza di campagne completate era già stata osservata in precedenza."
      ]
    },
    {
      "cell_type": "code",
      "metadata": {
        "id": "GuvDxT8hx-98",
        "colab": {
          "base_uri": "https://localhost:8080/",
          "height": 281
        },
        "outputId": "1dfb3da2-ed89-433c-bf78-629fa90f99a8"
      },
      "source": [
        "days_over_status = data[[\"status\", \"days\"]].copy()\n",
        "fig, axis = plt.subplots(nrows=1, ncols=2, sharey=True, figsize=(20, 4));\n",
        "axis[0].hist(days_over_status[days_over_status[\"status\"]==\"successful\"][\"days\"], bins=90);\n",
        "axis[0].set_ylabel(\"Frequency\");\n",
        "axis[0].set_title(\"Successful\");\n",
        "axis[1].hist(days_over_status[days_over_status[\"status\"]==\"failed\"][\"days\"], bins=90);\n",
        "axis[1].set_ylabel(\"Frequency\");\n",
        "axis[1].set_title(\"Failed\");"
      ],
      "execution_count": 232,
      "outputs": [
        {
          "output_type": "display_data",
          "data": {
            "image/png": "[encoded data removed]",
            "text/plain": [
              "<Figure size 1440x288 with 2 Axes>"
            ]
          },
          "metadata": {
            "tags": [],
            "needs_background": "light"
          }
        }
      ]
    },
    {
      "cell_type": "markdown",
      "metadata": {
        "id": "PsjbduUHfSBm"
      },
      "source": [
        "Non esploriamo altre relazioni tra features perchè non abbiamo ragione di pensare che ve ne siano altre."
      ]
    },
    {
      "cell_type": "markdown",
      "metadata": {
        "id": "Nq1GZxMOjTKC"
      },
      "source": [
        "## Preparazione dati"
      ]
    },
    {
      "cell_type": "markdown",
      "metadata": {
        "id": "D1Nk4GK6hn6u"
      },
      "source": [
        "Trasformiamo i dati categorici in variabili binarie. Per la colonna `status` trasformiamo \"failed\" in 0 e \"successful\" in 1."
      ]
    },
    {
      "cell_type": "code",
      "metadata": {
        "id": "4Vaa8t1QhuJH"
      },
      "source": [
        "main_category_dummies = data[\"main_category\"].str.get_dummies()\n",
        "data = data.merge(main_category_dummies, left_index=True, right_index=True);\n",
        "data = data.drop(columns=[\"main_category\"]);\n",
        "\n",
        "binary_status = {\"failed\":0,\n",
        "                 \"successful\":1}\n",
        "tmp_status = pd.Series(binary_status[x] for x in data[\"status\"])\n",
        "data.drop(\"status\", axis=1, inplace=True)\n",
        "data.insert(data.shape[1], \"status\", tmp_status)"
      ],
      "execution_count": 233,
      "outputs": []
    },
    {
      "cell_type": "markdown",
      "metadata": {
        "id": "HFOshrF3foEj"
      },
      "source": [
        "Separiamo la colonna `status`, ovvero la soluzione, dal resto del dataset."
      ]
    },
    {
      "cell_type": "code",
      "metadata": {
        "id": "QIyIfeGObDER"
      },
      "source": [
        "status = data[\"status\"].copy()\n",
        "data.drop(\"status\", axis=1, inplace=True)"
      ],
      "execution_count": 234,
      "outputs": []
    },
    {
      "cell_type": "markdown",
      "metadata": {
        "id": "m6aHGhMJmwgU"
      },
      "source": [
        "### Suddivisione dataset\n",
        "Qui dividiamo i dati in training e test che utilizzeremo per addestrare un semplice modello Perceptron."
      ]
    },
    {
      "cell_type": "code",
      "metadata": {
        "id": "zrJSM_1Gfzrm"
      },
      "source": [
        "X_pre_train, X_pre_val, y_pre_train, y_pre_val = train_test_split(data, status, test_size=0.3, random_state=42)"
      ],
      "execution_count": 235,
      "outputs": []
    },
    {
      "cell_type": "code",
      "metadata": {
        "id": "uSBqx6TienEA"
      },
      "source": [
        "def fit_and_eval(model, X_train, y_train, X_val, y_val):\n",
        "    model.fit(X_train, y_train)\n",
        "    print(\"Training set score: {}\".format(model.score(X_train, y_train)))\n",
        "    print(\"Test set score: {}\".format(model.score(X_val, y_val)))"
      ],
      "execution_count": 236,
      "outputs": []
    },
    {
      "cell_type": "markdown",
      "metadata": {
        "id": "NuVygmYmm46w"
      },
      "source": [
        "### Standardizzazione, regolarizzazione e multicolinearità"
      ]
    },
    {
      "cell_type": "markdown",
      "metadata": {
        "id": "yKrguMf9eyZG"
      },
      "source": [
        "Andiamo ora ad effettuare alcune prove di addestramento, con un modello basato sull'algoritmo Perceptron, per osservare come varia il punteggio utilizzando standardizzazione e regolarizzazione."
      ]
    },
    {
      "cell_type": "code",
      "metadata": {
        "id": "MICUxr_UfGQu",
        "colab": {
          "base_uri": "https://localhost:8080/",
          "height": 0
        },
        "outputId": "805944a7-9f91-40a4-8a46-2b853679a411"
      },
      "source": [
        "model = Pipeline([\n",
        "    (\"model\",  Perceptron(n_jobs=-1, random_state=42))\n",
        "])\n",
        "fit_and_eval(model, X_pre_train, y_pre_train, X_pre_val, y_pre_val)"
      ],
      "execution_count": 237,
      "outputs": [
        {
          "output_type": "stream",
          "text": [
            "Training set score: 0.6427739403337216\n",
            "Test set score: 0.6414437808361465\n"
          ],
          "name": "stdout"
        }
      ]
    },
    {
      "cell_type": "markdown",
      "metadata": {
        "id": "lNopEX5usw84"
      },
      "source": [
        "Come possiamo notare dal punteggio ottenuto, il modello non pare essere affetto da overfitting e possiede una precisione superiore alle aspettative.  \n",
        "Osserviamo una distribuzione molto ampia di valori dal minimo -2.072e4 al massimo 3.977e6."
      ]
    },
    {
      "cell_type": "code",
      "metadata": {
        "id": "VfIOCcCPrd3X",
        "colab": {
          "base_uri": "https://localhost:8080/",
          "height": 0
        },
        "outputId": "8846e5f3-2137-4dbc-8405-99f593a6f291"
      },
      "source": [
        "pd.Series(model.named_steps[\"model\"].coef_[0]).describe()"
      ],
      "execution_count": 238,
      "outputs": [
        {
          "output_type": "execute_result",
          "data": {
            "text/plain": [
              "count    1.800000e+01\n",
              "mean     3.260976e+05\n",
              "std      1.008698e+06\n",
              "min     -2.072783e+04\n",
              "25%     -1.226500e+03\n",
              "50%      5.427500e+03\n",
              "75%      1.357525e+04\n",
              "max      3.977439e+06\n",
              "dtype: float64"
            ]
          },
          "metadata": {
            "tags": []
          },
          "execution_count": 238
        }
      ]
    },
    {
      "cell_type": "markdown",
      "metadata": {
        "id": "2y3HdZpMtbXu"
      },
      "source": [
        "Ora proviamo a ripetere lo stesso addestramento aggiungendo il filtro `StandardScaler`."
      ]
    },
    {
      "cell_type": "code",
      "metadata": {
        "id": "tmnIRTjXtkGC",
        "colab": {
          "base_uri": "https://localhost:8080/",
          "height": 0
        },
        "outputId": "539a9565-fba8-4f8f-88f9-8d66ba886d5a"
      },
      "source": [
        "std_model = Pipeline([\n",
        "    (\"scaler\", StandardScaler()),\n",
        "    (\"model\",  Perceptron())\n",
        "])\n",
        "fit_and_eval(std_model, X_pre_train, y_pre_train, X_pre_val, y_pre_val)"
      ],
      "execution_count": 239,
      "outputs": [
        {
          "output_type": "stream",
          "text": [
            "Training set score: 0.5907273172432725\n",
            "Test set score: 0.5913442395914481\n"
          ],
          "name": "stdout"
        }
      ]
    },
    {
      "cell_type": "code",
      "metadata": {
        "id": "cTGBur9Utwy4",
        "colab": {
          "base_uri": "https://localhost:8080/",
          "height": 0
        },
        "outputId": "442fdc65-844d-414c-8b5c-0b76dc18eb4b"
      },
      "source": [
        "pd.Series(std_model.named_steps[\"model\"].coef_[0]).describe()"
      ],
      "execution_count": 240,
      "outputs": [
        {
          "output_type": "execute_result",
          "data": {
            "text/plain": [
              "count    18.000000\n",
              "mean     -2.068587\n",
              "std       9.820326\n",
              "min     -39.330147\n",
              "25%      -2.608647\n",
              "50%       0.561829\n",
              "75%       0.990115\n",
              "max       7.519357\n",
              "dtype: float64"
            ]
          },
          "metadata": {
            "tags": []
          },
          "execution_count": 240
        }
      ]
    },
    {
      "cell_type": "markdown",
      "metadata": {
        "id": "5i7D0YGFt1Na"
      },
      "source": [
        "Stranamente, la precisione del modello è diminuita, ma i coefficienti sono contenuti all'interno di un intervallo molto più piccolo.\n",
        "Proviamo ora ad aggiungere una penalità di tipo L1 per verificare se esistono alcune variabili ininfluenti."
      ]
    },
    {
      "cell_type": "code",
      "metadata": {
        "id": "EWCgJcWpua1W",
        "colab": {
          "base_uri": "https://localhost:8080/",
          "height": 0
        },
        "outputId": "0f309f3a-315c-4d88-f0ec-52199b57288e"
      },
      "source": [
        "std_pen_model = Pipeline([\n",
        "    (\"scaler\", StandardScaler()),\n",
        "    (\"model\",  Perceptron(penalty=\"l1\", alpha=0.0001))\n",
        "])\n",
        "fit_and_eval(std_pen_model, X_pre_train, y_pre_train, X_pre_val, y_pre_val)"
      ],
      "execution_count": 241,
      "outputs": [
        {
          "output_type": "stream",
          "text": [
            "Training set score: 0.6333884837108538\n",
            "Test set score: 0.6314723448454946\n"
          ],
          "name": "stdout"
        }
      ]
    },
    {
      "cell_type": "markdown",
      "metadata": {
        "id": "A0LeBqSDeMo-"
      },
      "source": [
        "Stranamente, lo score aumenta ma non abbastanza da superare il valore ottenuto senza standardizzazione e notiamo che 14 delle 18 variabili coinvolte nel modello sono state azzerate perchè ininfluenti."
      ]
    },
    {
      "cell_type": "code",
      "metadata": {
        "id": "uPXOk8k5ueR3",
        "colab": {
          "base_uri": "https://localhost:8080/",
          "height": 0
        },
        "outputId": "0c11ac81-f206-4b92-ae89-2ac41679f44e"
      },
      "source": [
        "print(pd.Series(std_pen_model.named_steps[\"model\"].coef_[0]).describe())\n",
        "print(\"\\nVariabili azzerate: {}\".format((std_pen_model.named_steps[\"model\"].coef_[0] == 0).sum()))"
      ],
      "execution_count": 242,
      "outputs": [
        {
          "output_type": "stream",
          "text": [
            "count    18.000000\n",
            "mean     -0.570738\n",
            "std       1.856219\n",
            "min      -6.799687\n",
            "25%       0.000000\n",
            "50%       0.000000\n",
            "75%       0.000000\n",
            "max       0.985618\n",
            "dtype: float64\n",
            "\n",
            "Variabili azzerate: 14\n"
          ],
          "name": "stdout"
        }
      ]
    },
    {
      "cell_type": "markdown",
      "metadata": {
        "id": "hZHaumRredYP"
      },
      "source": [
        "Se andiamo ad osservare nel dettaglio quali variabili sono state azzerate, notiamo che `launch_day`, ovvero il giorno dell'anno del lancio della campagna, risulta essere ininfluente. Ciò può essere spiegato dalla distribuzione molto uniforme di questa variabile che la rende \"quasi\" costante.  \n",
        "Stranamente, anche la durata in giorni di una campagna sembra essere ininfluente. Infine, come avevamo previsto la variabile più importante, `goal_usd`, ha un fortissimo peso negativo sul successo di una campagna.  \n",
        "Molte delle categorie risultano essere ininfluenti sul successo di una campagna. Questa informazione ci suggerisce uno sbilanciamento tra le classi oppure ad una \"cattiva\" distribuzione dei successi e fallimenti tra le varie classi."
      ]
    },
    {
      "cell_type": "code",
      "metadata": {
        "id": "XVTH5RCpejgo",
        "colab": {
          "base_uri": "https://localhost:8080/",
          "height": 0
        },
        "outputId": "cb4ef8f5-7982-4b1c-f8d2-23667668d5b2"
      },
      "source": [
        "pd.Series(std_pen_model.named_steps[\"model\"].coef_[0], index=X_pre_train.columns).head(10)"
      ],
      "execution_count": 243,
      "outputs": [
        {
          "output_type": "execute_result",
          "data": {
            "text/plain": [
              "launch_day      0.000000\n",
              "days            0.000000\n",
              "goal_usd       -6.799687\n",
              "art             0.000000\n",
              "comics          0.000000\n",
              "crafts          0.000000\n",
              "dance           0.000000\n",
              "design          0.000000\n",
              "fashion         0.000000\n",
              "film & video    0.000000\n",
              "dtype: float64"
            ]
          },
          "metadata": {
            "tags": []
          },
          "execution_count": 243
        }
      ]
    },
    {
      "cell_type": "markdown",
      "metadata": {
        "id": "Vk3Ic-dr531u"
      },
      "source": [
        "Osservando la correlazione di Pearson tra `launch_day`, `days` e le altre variabili coinvolte, non notiamo valori così sbilanciati da farci supporre una correlazione vera e propria. Per questo motivo, preferiamo non eliminare queste colonne anche se sembrano essere ininfluenti."
      ]
    },
    {
      "cell_type": "code",
      "metadata": {
        "colab": {
          "base_uri": "https://localhost:8080/",
          "height": 290
        },
        "id": "7LpDWrlOZHzv",
        "outputId": "540dcad6-91c4-41a0-8911-09e22dc97782"
      },
      "source": [
        "corr = data.corr(\"pearson\")[[\"launch_day\", \"days\"]]\n",
        "corr[corr<1.0].describe()"
      ],
      "execution_count": 244,
      "outputs": [
        {
          "output_type": "execute_result",
          "data": {
            "text/html": [
              "<div>\n",
              "<style scoped>\n",
              "    .dataframe tbody tr th:only-of-type {\n",
              "        vertical-align: middle;\n",
              "    }\n",
              "\n",
              "    .dataframe tbody tr th {\n",
              "        vertical-align: top;\n",
              "    }\n",
              "\n",
              "    .dataframe thead th {\n",
              "        text-align: right;\n",
              "    }\n",
              "</style>\n",
              "<table border=\"1\" class=\"dataframe\">\n",
              "  <thead>\n",
              "    <tr style=\"text-align: right;\">\n",
              "      <th></th>\n",
              "      <th>launch_day</th>\n",
              "      <th>days</th>\n",
              "    </tr>\n",
              "  </thead>\n",
              "  <tbody>\n",
              "    <tr>\n",
              "      <th>count</th>\n",
              "      <td>17.000000</td>\n",
              "      <td>17.000000</td>\n",
              "    </tr>\n",
              "    <tr>\n",
              "      <th>mean</th>\n",
              "      <td>0.000798</td>\n",
              "      <td>-0.001037</td>\n",
              "    </tr>\n",
              "    <tr>\n",
              "      <th>std</th>\n",
              "      <td>0.015132</td>\n",
              "      <td>0.032790</td>\n",
              "    </tr>\n",
              "    <tr>\n",
              "      <th>min</th>\n",
              "      <td>-0.022948</td>\n",
              "      <td>-0.055236</td>\n",
              "    </tr>\n",
              "    <tr>\n",
              "      <th>25%</th>\n",
              "      <td>-0.011259</td>\n",
              "      <td>-0.026610</td>\n",
              "    </tr>\n",
              "    <tr>\n",
              "      <th>50%</th>\n",
              "      <td>-0.001941</td>\n",
              "      <td>-0.007885</td>\n",
              "    </tr>\n",
              "    <tr>\n",
              "      <th>75%</th>\n",
              "      <td>0.007793</td>\n",
              "      <td>0.018631</td>\n",
              "    </tr>\n",
              "    <tr>\n",
              "      <th>max</th>\n",
              "      <td>0.032520</td>\n",
              "      <td>0.079170</td>\n",
              "    </tr>\n",
              "  </tbody>\n",
              "</table>\n",
              "</div>"
            ],
            "text/plain": [
              "       launch_day       days\n",
              "count   17.000000  17.000000\n",
              "mean     0.000798  -0.001037\n",
              "std      0.015132   0.032790\n",
              "min     -0.022948  -0.055236\n",
              "25%     -0.011259  -0.026610\n",
              "50%     -0.001941  -0.007885\n",
              "75%      0.007793   0.018631\n",
              "max      0.032520   0.079170"
            ]
          },
          "metadata": {
            "tags": []
          },
          "execution_count": 244
        }
      ]
    },
    {
      "cell_type": "markdown",
      "metadata": {
        "id": "cGCH78-t9Eyt"
      },
      "source": [
        "## Modellazione"
      ]
    },
    {
      "cell_type": "markdown",
      "metadata": {
        "id": "lpLmhK6Z9H_d"
      },
      "source": [
        "Prepariamo due funzioni per automatizzare l'addestramento tramite una GridSearch e K-Fold cross validation.  \n",
        "In questa funzione, a causa delle elevate dimensioni del dataset, si scelgono un centesimo delle righe del dataset casualmente prima di passarle alla funzione `train_test_split` per evitare tempi di addestramento molto lunghi. "
      ]
    },
    {
      "cell_type": "code",
      "metadata": {
        "id": "QWE-M0it9HGg"
      },
      "source": [
        "models = {}\n",
        "\n",
        "def grid_search_kfold(model, grid, scoring=None):\n",
        "    k_fold = KFold(n_splits=5, shuffle=True, random_state=42)\n",
        "    grid_search = GridSearchCV(model, grid, scoring=scoring, cv=k_fold, n_jobs=-1)\n",
        "\n",
        "    sample_index = data.sample(frac=0.01, random_state=42).index\n",
        "    X_train, X_val, y_train, y_val = train_test_split(data.iloc[sample_index], status.iloc[sample_index], test_size=0.3, random_state=42)\n",
        "\n",
        "    grid_search.fit(X_train, y_train)\n",
        "    train_score = grid_search.score(X_train, y_train)\n",
        "    test_score = grid_search.score(X_val, y_val)\n",
        "\n",
        "    print(\"Best cross validation score: {}\\n\".format(grid_search.best_score_))\n",
        "    print(\"Trainig set score: {}\\n\".format(train_score))\n",
        "    print(\"Test set score: {}\\n\".format(test_score))\n",
        "    print(\"Best parameters: {}\\n\".format(grid_search.best_params_))\n",
        "    return grid_search.best_estimator_, train_score, test_score"
      ],
      "execution_count": 245,
      "outputs": []
    },
    {
      "cell_type": "markdown",
      "metadata": {
        "id": "GXLFJg31_vq7"
      },
      "source": [
        "### Perceptron\n",
        "Addestriamo nuovamente un modello basato su Perceptron sfruttando stavolta una GridSearch su:\n",
        " - standardizzazione dei dati\n",
        " - tipo di regolarizzazione/penalizzazione\n",
        " - coefficiente di regolarizzazione\n",
        " - utilizzo dell'intercetta"
      ]
    },
    {
      "cell_type": "code",
      "metadata": {
        "colab": {
          "base_uri": "https://localhost:8080/",
          "height": 0
        },
        "id": "kR15R0cI_x1L",
        "outputId": "b610889c-f1fc-4e4b-8f87-6fe4174f1222"
      },
      "source": [
        "%%time\n",
        "per_model = Pipeline([\n",
        "    (\"scaler\", StandardScaler()),\n",
        "    (\"per\", Perceptron(n_jobs=-1, random_state=42))\n",
        "])\n",
        "\n",
        "per_grid = {\n",
        "    \"scaler\": [None, StandardScaler()],\n",
        "    \"per__penalty\": [\"l2\", \"l1\", \"elasticnet\"],\n",
        "    \"per__alpha\": np.logspace(-3, 3, 7),\n",
        "    \"per__fit_intercept\": [False, True]\n",
        "}\n",
        "\n",
        "per_model, train_score, test_score = grid_search_kfold(per_model, per_grid)\n",
        "models[\"Perceptron\"] = {\"model\": per_model,\n",
        "                        \"train_accuracy\": train_score,\n",
        "                        \"test_accuracy\": test_score}"
      ],
      "execution_count": 246,
      "outputs": [
        {
          "output_type": "stream",
          "text": [
            "Best cross validation score: 0.6116453256230208\n",
            "\n",
            "Trainig set score: 0.4669636228656273\n",
            "\n",
            "Test set score: 0.4671280276816609\n",
            "\n",
            "Best parameters: {'per__alpha': 0.01, 'per__fit_intercept': True, 'per__penalty': 'l1', 'scaler': StandardScaler(copy=True, with_mean=True, with_std=True)}\n",
            "\n",
            "CPU times: user 808 ms, sys: 22.4 ms, total: 831 ms\n",
            "Wall time: 2.82 s\n"
          ],
          "name": "stdout"
        }
      ]
    },
    {
      "cell_type": "markdown",
      "metadata": {
        "id": "CvGD67eAGl6e"
      },
      "source": [
        "### Logistic Regression\n",
        "La Logistic Regression è un algoritmo per ottenere un iperpiano di separazione non ottimale ma lineare. Effettuiamo una GridSearch su:\n",
        " - standardizzazione dei dati\n",
        " - tipo di regolarizzazione/penalizzazione\n",
        " - il parametro C, l'inverso del coefficiente di regolarizzazione\n",
        " - utilizzo dell'intercetta"
      ]
    },
    {
      "cell_type": "code",
      "metadata": {
        "colab": {
          "base_uri": "https://localhost:8080/",
          "height": 0
        },
        "id": "83IY6ifiGtoP",
        "outputId": "34da9664-a1c9-4bef-fa4f-933b2507b5d8"
      },
      "source": [
        "%%time\n",
        "log_model = Pipeline([\n",
        "    (\"scaler\", StandardScaler()),\n",
        "    (\"lr\", LogisticRegression(solver='liblinear', random_state=42))\n",
        "])\n",
        "\n",
        "log_grid = {\n",
        "    \"scaler\": [None, StandardScaler()],\n",
        "    \"lr__penalty\": [\"l2\", \"l1\", \"elasticnet\"],\n",
        "    \"lr__C\": np.logspace(-4, 2, 7),\n",
        "    \"lr__fit_intercept\": [False, True]\n",
        "}\n",
        "\n",
        "log_model, train_score, test_score = grid_search_kfold(log_model, log_grid)\n",
        "models[\"Logistic Regression\"] = {\"model\": log_model,\n",
        "                                 \"train_accuracy\": train_score,\n",
        "                                 \"test_accuracy\": test_score}"
      ],
      "execution_count": 247,
      "outputs": [
        {
          "output_type": "stream",
          "text": [
            "Best cross validation score: 0.682965716646014\n",
            "\n",
            "Trainig set score: 0.6852264291017075\n",
            "\n",
            "Test set score: 0.671280276816609\n",
            "\n",
            "Best parameters: {'lr__C': 1.0, 'lr__fit_intercept': True, 'lr__penalty': 'l2', 'scaler': StandardScaler(copy=True, with_mean=True, with_std=True)}\n",
            "\n",
            "CPU times: user 770 ms, sys: 69.2 ms, total: 839 ms\n",
            "Wall time: 3.43 s\n"
          ],
          "name": "stdout"
        }
      ]
    },
    {
      "cell_type": "markdown",
      "metadata": {
        "id": "BmOl3a7pIbjn"
      },
      "source": [
        "### Support Vector Machines"
      ]
    },
    {
      "cell_type": "markdown",
      "metadata": {
        "id": "gBuRT4eJOegl"
      },
      "source": [
        "Support Vector Machines è un algoritmo di classificazione che determina l'iperpiano di separazione ottimale. In particolare, trasforma lo spazio in cui sono definiti i dati di input in modo che tali dati diventino linearmente separabili. Effettuiamo una GridSearch su:\n",
        " - il tipo di kernel function da utilizzare\n",
        " - il parametro C che consente di controllare l'overfitting"
      ]
    },
    {
      "cell_type": "code",
      "metadata": {
        "colab": {
          "base_uri": "https://localhost:8080/",
          "height": 0
        },
        "id": "RaihaeanIf_q",
        "outputId": "d1154308-c80f-4243-caed-62b4f6ab4893"
      },
      "source": [
        "%%time\n",
        "svm_model = Pipeline([\n",
        "    (\"scaler\", StandardScaler()),\n",
        "    (\"svc\", SVC(random_state=42))\n",
        "])\n",
        "\n",
        "svm_grid = {\n",
        "  \"svc__kernel\": [\"linear\", \"rbf\"],\n",
        "  \"svc__C\": np.logspace(1, 3, 3)\n",
        "}\n",
        "\n",
        "svm_model, train_score, test_score = grid_search_kfold(svm_model, svm_grid)\n",
        "models[\"Support Vector Machines\"] = {\"model\": svm_model,\n",
        "                                     \"train_accuracy\": train_score,\n",
        "                                     \"test_accuracy\": test_score}"
      ],
      "execution_count": 248,
      "outputs": [
        {
          "output_type": "stream",
          "text": [
            "Best cross validation score: 0.6740547982927165\n",
            "\n",
            "Trainig set score: 0.6792873051224945\n",
            "\n",
            "Test set score: 0.6539792387543253\n",
            "\n",
            "Best parameters: {'svc__C': 10.0, 'svc__kernel': 'linear'}\n",
            "\n",
            "CPU times: user 1.38 s, sys: 143 ms, total: 1.53 s\n",
            "Wall time: 2min 52s\n"
          ],
          "name": "stdout"
        }
      ]
    },
    {
      "cell_type": "markdown",
      "metadata": {
        "id": "UCD267KKIpaf"
      },
      "source": [
        "### K-Neighbors Classifier"
      ]
    },
    {
      "cell_type": "markdown",
      "metadata": {
        "id": "oc4kD0xpQd3Z"
      },
      "source": [
        "K-Nearest Neighbors (anche noto come kNN) è un algoritmo di classificazione molto semplice che tende ad aggregare i dati classificandoli mediante un voto di maggioranza dei $k$ punti più vicini. Effettuiamo una GridSearch su:\n",
        " - standardizzazione dei dati\n",
        " - numero di punti vicini da considerare\n",
        " - il tipo di funzione da utilizzare per scegliere i punti \"vicini\""
      ]
    },
    {
      "cell_type": "code",
      "metadata": {
        "colab": {
          "base_uri": "https://localhost:8080/",
          "height": 0
        },
        "id": "GhnB3kZOItFc",
        "outputId": "9ad2588c-498c-4080-accb-6168a7c8c78b"
      },
      "source": [
        "%%time\n",
        "knc_model = Pipeline([\n",
        "    (\"scaler\", StandardScaler()),\n",
        "    (\"knc\", KNeighborsClassifier(n_jobs=-1))\n",
        "])\n",
        "\n",
        "knc_grid = {\"scaler\": [None, StandardScaler()],\n",
        "            'knc__n_neighbors': range(1, 10, 1),\n",
        "            'knc__weights': ['uniform', 'distance']}\n",
        "\n",
        "knc_model, train_score, test_score = grid_search_kfold(knc_model, knc_grid)\n",
        "models[\"K-Neighbors\"] = {\"model\": knc_model,\n",
        "                         \"train_accuracy\": train_score,\n",
        "                         \"test_accuracy\": test_score}"
      ],
      "execution_count": 249,
      "outputs": [
        {
          "output_type": "stream",
          "text": [
            "Best cross validation score: 0.6547514801046399\n",
            "\n",
            "Trainig set score: 0.9992576095025983\n",
            "\n",
            "Test set score: 0.643598615916955\n",
            "\n",
            "Best parameters: {'knc__n_neighbors': 9, 'knc__weights': 'distance', 'scaler': StandardScaler(copy=True, with_mean=True, with_std=True)}\n",
            "\n",
            "CPU times: user 833 ms, sys: 15.8 ms, total: 849 ms\n",
            "Wall time: 11 s\n"
          ],
          "name": "stdout"
        }
      ]
    },
    {
      "cell_type": "markdown",
      "metadata": {
        "id": "LJpY5e3XrHX-"
      },
      "source": [
        "### Decision Tree"
      ]
    },
    {
      "cell_type": "markdown",
      "metadata": {
        "id": "oInRZq3NUIyQ"
      },
      "source": [
        "Il Decision Tree è un modello creato deducendo semplici regole di decisione dai dati in input. Effettuiamo una GridSearch su:\n",
        " - standardizzazione dei dati\n",
        " - numero minimo di record necessario per ramificare un nodo interno\n",
        " - numero minimo di record necessario per considerare valida una foglia\n",
        " - profondità massima dell'albero\n",
        " - massimo numero di features da considerare"
      ]
    },
    {
      "cell_type": "code",
      "metadata": {
        "colab": {
          "base_uri": "https://localhost:8080/",
          "height": 0
        },
        "id": "mbPk9qOKrI7s",
        "outputId": "9406b44b-5555-4ed6-862f-036606d95e51"
      },
      "source": [
        "%%time\n",
        "tree_model = Pipeline([\n",
        "    (\"scaler\", StandardScaler()),\n",
        "    (\"tree\", DecisionTreeClassifier(random_state=42))\n",
        "])\n",
        "\n",
        "tree_grid = {\"scaler\": [None, StandardScaler()],\n",
        "             'tree__min_samples_split': range(2, 4, 1),\n",
        "             'tree__min_samples_leaf': range(1, 4, 1), \n",
        "             'tree__max_depth': [None] + [i for i in range(2, 7)],\n",
        "             'tree__max_features': range(2, data.columns.size, 1)}\n",
        "\n",
        "tree_model, train_score, test_score = grid_search_kfold(tree_model, tree_grid)\n",
        "models[\"Decision Tree\"] = {\"model\": tree_model,\n",
        "                           \"train_accuracy\": train_score,\n",
        "                           \"test_accuracy\": test_score}"
      ],
      "execution_count": 250,
      "outputs": [
        {
          "output_type": "stream",
          "text": [
            "Best cross validation score: 0.6925953462756438\n",
            "\n",
            "Trainig set score: 0.7119524870081663\n",
            "\n",
            "Test set score: 0.6626297577854672\n",
            "\n",
            "Best parameters: {'scaler': None, 'tree__max_depth': 4, 'tree__max_features': 8, 'tree__min_samples_leaf': 3, 'tree__min_samples_split': 2}\n",
            "\n",
            "CPU times: user 7.61 s, sys: 77 ms, total: 7.69 s\n",
            "Wall time: 30 s\n"
          ],
          "name": "stdout"
        }
      ]
    },
    {
      "cell_type": "markdown",
      "metadata": {
        "id": "ICgtoTrUrQgj"
      },
      "source": [
        "### Random Forest"
      ]
    },
    {
      "cell_type": "markdown",
      "metadata": {
        "id": "o4H3mXmyecDt"
      },
      "source": [
        "Random Forest è un algoritmo di ensemble learning che costituisce un'evoluzione dei Decision Tree. Infatti, realizza un insieme di alberi decisionali indipendenti il cui risultato viene poi combinato mediante un voto. Effettuiamo una GridSearch sugli stessi iperparametri dei Decision Tree più il numero di alberi decisionali da utilizzare."
      ]
    },
    {
      "cell_type": "code",
      "metadata": {
        "colab": {
          "base_uri": "https://localhost:8080/",
          "height": 0
        },
        "id": "iPMNvlxOrSOL",
        "outputId": "d63322e2-8f18-4f64-ac6b-fab4dbcfe63c"
      },
      "source": [
        "%%time\n",
        "forest_model = Pipeline([\n",
        "    (\"scaler\", StandardScaler()),\n",
        "    (\"forest\", RandomForestClassifier(n_jobs=-1, random_state=42))\n",
        "])\n",
        "\n",
        "forest_grid = {\"scaler\": [None, StandardScaler()],\n",
        "             'forest__n_estimators': range(5, 10),\n",
        "             'forest__min_samples_split': range(2, 5), \n",
        "             'forest__max_depth': [None] + [i for i in range(1, 3)],\n",
        "             'forest__max_features': [int(math.sqrt(data.columns.size)), data.columns.size - 1]}\n",
        "\n",
        "forest_model, train_score, test_score = grid_search_kfold(forest_model, forest_grid)\n",
        "models[\"Random Forest\"] = {\"model\": forest_model,\n",
        "                           \"train_accuracy\": train_score,\n",
        "                           \"test_accuracy\": test_score}"
      ],
      "execution_count": 251,
      "outputs": [
        {
          "output_type": "stream",
          "text": [
            "Best cross validation score: 0.6643783560512185\n",
            "\n",
            "Trainig set score: 0.6592427616926503\n",
            "\n",
            "Test set score: 0.6349480968858131\n",
            "\n",
            "Best parameters: {'forest__max_depth': 2, 'forest__max_features': 17, 'forest__min_samples_split': 2, 'forest__n_estimators': 5, 'scaler': None}\n",
            "\n",
            "CPU times: user 6.11 s, sys: 234 ms, total: 6.34 s\n",
            "Wall time: 1min 37s\n"
          ],
          "name": "stdout"
        }
      ]
    },
    {
      "cell_type": "markdown",
      "metadata": {
        "id": "rCPW2Tz2rbsY"
      },
      "source": [
        "### Riepilogo risultati"
      ]
    },
    {
      "cell_type": "markdown",
      "metadata": {
        "id": "lSxhhYOZtNB2"
      },
      "source": [
        "Notiamo che i valori di accuratezza dei modelli non sono molto alti. In particolare, i modelli SVM, K-Neighbors e Decision Tree risultano essere palesemente in **overfitting**. Per questo motivo, li eliminiano dalla lista dei modelli e non li considereremo oltre."
      ]
    },
    {
      "cell_type": "code",
      "metadata": {
        "colab": {
          "base_uri": "https://localhost:8080/",
          "height": 260
        },
        "id": "SkAIj8Uard9d",
        "outputId": "cf9ca49c-8f1c-4d4a-86f4-b103ac6e9105"
      },
      "source": [
        "accuracy_df = pd.DataFrame([\n",
        "                            [name, model[\"train_accuracy\"], model[\"test_accuracy\"]]\n",
        "                            for name,model in models.items()\n",
        "                           ],\n",
        "                           columns=[\"Name\", \"Training accuracy\", \"Test accuracy\"]).set_index(\"Name\")\n",
        "accuracy_df"
      ],
      "execution_count": 252,
      "outputs": [
        {
          "output_type": "execute_result",
          "data": {
            "text/html": [
              "<div>\n",
              "<style scoped>\n",
              "    .dataframe tbody tr th:only-of-type {\n",
              "        vertical-align: middle;\n",
              "    }\n",
              "\n",
              "    .dataframe tbody tr th {\n",
              "        vertical-align: top;\n",
              "    }\n",
              "\n",
              "    .dataframe thead th {\n",
              "        text-align: right;\n",
              "    }\n",
              "</style>\n",
              "<table border=\"1\" class=\"dataframe\">\n",
              "  <thead>\n",
              "    <tr style=\"text-align: right;\">\n",
              "      <th></th>\n",
              "      <th>Training accuracy</th>\n",
              "      <th>Test accuracy</th>\n",
              "    </tr>\n",
              "    <tr>\n",
              "      <th>Name</th>\n",
              "      <th></th>\n",
              "      <th></th>\n",
              "    </tr>\n",
              "  </thead>\n",
              "  <tbody>\n",
              "    <tr>\n",
              "      <th>Perceptron</th>\n",
              "      <td>0.466964</td>\n",
              "      <td>0.467128</td>\n",
              "    </tr>\n",
              "    <tr>\n",
              "      <th>Logistic Regression</th>\n",
              "      <td>0.685226</td>\n",
              "      <td>0.671280</td>\n",
              "    </tr>\n",
              "    <tr>\n",
              "      <th>Support Vector Machines</th>\n",
              "      <td>0.679287</td>\n",
              "      <td>0.653979</td>\n",
              "    </tr>\n",
              "    <tr>\n",
              "      <th>K-Neighbors</th>\n",
              "      <td>0.999258</td>\n",
              "      <td>0.643599</td>\n",
              "    </tr>\n",
              "    <tr>\n",
              "      <th>Decision Tree</th>\n",
              "      <td>0.711952</td>\n",
              "      <td>0.662630</td>\n",
              "    </tr>\n",
              "    <tr>\n",
              "      <th>Random Forest</th>\n",
              "      <td>0.659243</td>\n",
              "      <td>0.634948</td>\n",
              "    </tr>\n",
              "  </tbody>\n",
              "</table>\n",
              "</div>"
            ],
            "text/plain": [
              "                         Training accuracy  Test accuracy\n",
              "Name                                                     \n",
              "Perceptron                        0.466964       0.467128\n",
              "Logistic Regression               0.685226       0.671280\n",
              "Support Vector Machines           0.679287       0.653979\n",
              "K-Neighbors                       0.999258       0.643599\n",
              "Decision Tree                     0.711952       0.662630\n",
              "Random Forest                     0.659243       0.634948"
            ]
          },
          "metadata": {
            "tags": []
          },
          "execution_count": 252
        }
      ]
    },
    {
      "cell_type": "code",
      "metadata": {
        "colab": {
          "base_uri": "https://localhost:8080/",
          "height": 0
        },
        "id": "ToAddHg9vXrI",
        "outputId": "3bf22af8-50df-407f-b0fc-1b3ca4c7a8cd"
      },
      "source": [
        "[models.pop(k) for k in [\"Support Vector Machines\", \"K-Neighbors\", \"Decision Tree\"]]"
      ],
      "execution_count": 253,
      "outputs": [
        {
          "output_type": "execute_result",
          "data": {
            "text/plain": [
              "[{'model': Pipeline(memory=None,\n",
              "           steps=[('scaler',\n",
              "                   StandardScaler(copy=True, with_mean=True, with_std=True)),\n",
              "                  ('svc',\n",
              "                   SVC(C=10.0, break_ties=False, cache_size=200,\n",
              "                       class_weight=None, coef0=0.0,\n",
              "                       decision_function_shape='ovr', degree=3, gamma='scale',\n",
              "                       kernel='linear', max_iter=-1, probability=False,\n",
              "                       random_state=42, shrinking=True, tol=0.001,\n",
              "                       verbose=False))],\n",
              "           verbose=False),\n",
              "  'test_accuracy': 0.6539792387543253,\n",
              "  'train_accuracy': 0.6792873051224945},\n",
              " {'model': Pipeline(memory=None,\n",
              "           steps=[('scaler',\n",
              "                   StandardScaler(copy=True, with_mean=True, with_std=True)),\n",
              "                  ('knc',\n",
              "                   KNeighborsClassifier(algorithm='auto', leaf_size=30,\n",
              "                                        metric='minkowski', metric_params=None,\n",
              "                                        n_jobs=-1, n_neighbors=9, p=2,\n",
              "                                        weights='distance'))],\n",
              "           verbose=False),\n",
              "  'test_accuracy': 0.643598615916955,\n",
              "  'train_accuracy': 0.9992576095025983},\n",
              " {'model': Pipeline(memory=None,\n",
              "           steps=[('scaler', None),\n",
              "                  ('tree',\n",
              "                   DecisionTreeClassifier(ccp_alpha=0.0, class_weight=None,\n",
              "                                          criterion='gini', max_depth=4,\n",
              "                                          max_features=8, max_leaf_nodes=None,\n",
              "                                          min_impurity_decrease=0.0,\n",
              "                                          min_impurity_split=None,\n",
              "                                          min_samples_leaf=3, min_samples_split=2,\n",
              "                                          min_weight_fraction_leaf=0.0,\n",
              "                                          presort='deprecated', random_state=42,\n",
              "                                          splitter='best'))],\n",
              "           verbose=False),\n",
              "  'test_accuracy': 0.6626297577854672,\n",
              "  'train_accuracy': 0.7119524870081663}]"
            ]
          },
          "metadata": {
            "tags": []
          },
          "execution_count": 253
        }
      ]
    },
    {
      "cell_type": "markdown",
      "metadata": {
        "id": "nzpx1mUErlMt"
      },
      "source": [
        "## Valutazione modelli di classificazione"
      ]
    },
    {
      "cell_type": "markdown",
      "metadata": {
        "id": "x-eCu3Uod5Js"
      },
      "source": [
        "L'accuratezza può non essere una buona stima della capacità predittiva di un modello di classificazione, in particolare nei casi in cui il dataset è sbilanciato. In questo caso se si costruisse un modello che predica sempre una campagna Kickstarter come \"successful\", questo avrebbe un'accuratezza del 60%."
      ]
    },
    {
      "cell_type": "code",
      "metadata": {
        "colab": {
          "base_uri": "https://localhost:8080/",
          "height": 0
        },
        "id": "6Wg7VRkSjJW7",
        "outputId": "fc14bb9b-e437-4796-f21a-fa91e31ef244"
      },
      "source": [
        "X_train, X_val, y_train, y_val = train_test_split(data, status, test_size=0.3, random_state=42)\n",
        "y_val.value_counts(normalize=True)"
      ],
      "execution_count": 254,
      "outputs": [
        {
          "output_type": "execute_result",
          "data": {
            "text/plain": [
              "1    0.607513\n",
              "0    0.392487\n",
              "Name: status, dtype: float64"
            ]
          },
          "metadata": {
            "tags": []
          },
          "execution_count": 254
        }
      ]
    },
    {
      "cell_type": "markdown",
      "metadata": {
        "id": "XEqdqcq3r14h"
      },
      "source": [
        "### Confronto con un modello casuale"
      ]
    },
    {
      "cell_type": "markdown",
      "metadata": {
        "id": "DmszFTCvyGL9"
      },
      "source": [
        "\"Addestrando\" un modello casuale notiamo che l'accuratezza risulta intorno al 50%, del tutto comprensibile dal momento che la variabile da predire è binaria. Dunque, scartiamo il Perceptron che possiede una precisione inferiore del DummyClassifier."
      ]
    },
    {
      "cell_type": "code",
      "metadata": {
        "colab": {
          "base_uri": "https://localhost:8080/",
          "height": 0
        },
        "id": "fgOyo_Zgr4mq",
        "outputId": "9168756a-48ba-4df2-f8eb-20254b5b7179"
      },
      "source": [
        "random_model = DummyClassifier(strategy=\"uniform\", random_state=42)\n",
        "random_model.fit(X_train, y_train)\n",
        "random_score = random_model.score(X_val, y_val)\n",
        "models[\"Dummy\"] = {\"model\" : random_model, \"score\": random_score}\n",
        "random_score"
      ],
      "execution_count": 255,
      "outputs": [
        {
          "output_type": "execute_result",
          "data": {
            "text/plain": [
              "0.4989007184281139"
            ]
          },
          "metadata": {
            "tags": []
          },
          "execution_count": 255
        }
      ]
    },
    {
      "cell_type": "code",
      "metadata": {
        "id": "CDnWxwIxyi34"
      },
      "source": [
        "[models.pop(k) for k in [\"Dummy\", \"Perceptron\"]];"
      ],
      "execution_count": 256,
      "outputs": []
    },
    {
      "cell_type": "markdown",
      "metadata": {
        "id": "86T7W0dxy0wZ"
      },
      "source": [
        "### Precision, Recall, F1-Score"
      ]
    },
    {
      "cell_type": "markdown",
      "metadata": {
        "id": "qWWv7lOWNS9m"
      },
      "source": [
        "Andiamo ora a misurare Precision, Recall e F1-Score per ogni modello e per ogni classe da predire."
      ]
    },
    {
      "cell_type": "code",
      "metadata": {
        "id": "bB9hYEfoy39e"
      },
      "source": [
        "def model_metrics(name, X, y) :\n",
        "    model = models[name]\n",
        "    y_pred = model[\"model\"].predict(X)\n",
        "    \n",
        "    model[\"pr_success\"] = precision_score(y, y_pred, average=\"binary\", pos_label=1)\n",
        "    model[\"pr_failed\"]  = precision_score(y, y_pred, average=\"binary\", pos_label=0)\n",
        "    model[\"precision\"]  = precision_score(y, y_pred, average=\"macro\")\n",
        "\n",
        "    model[\"r_success\"] = recall_score(y, y_pred, average=\"binary\", pos_label=1)\n",
        "    model[\"r_failed\"]  = recall_score(y, y_pred, average=\"binary\", pos_label=0)\n",
        "    model[\"recall\"]    = recall_score(y, y_pred, average=\"macro\")\n",
        "\n",
        "    model[\"f1_success\"] = f1_score(y, y_pred, average=\"binary\", pos_label=1)\n",
        "    model[\"f1_failed\"] = f1_score(y, y_pred, average=\"binary\", pos_label=0)\n",
        "    model[\"f1_score\"] = f1_score(y, y_pred, average=\"macro\")\n",
        "\n",
        "    return pd.Series({\n",
        "        \"Name\":name,\n",
        "        \"Training accuracy\":model[\"train_accuracy\"],\n",
        "        \"Test accuracy\":model[\"test_accuracy\"],\n",
        "        \"Pr(success)\":model[\"pr_success\"],\n",
        "        \"Pr(failed)\":model[\"pr_failed\"],\n",
        "        \"Precision\":model[\"precision\"],\n",
        "        \"R(success)\":model[\"r_success\"],\n",
        "        \"R(failed)\":model[\"r_failed\"],\n",
        "        \"Recall\":model[\"recall\"],\n",
        "        \"F1(success)\":model[\"f1_success\"],\n",
        "        \"F1(failed)\":model[\"f1_failed\"],\n",
        "        \"F1-Score\":model[\"f1_score\"]\n",
        "    })"
      ],
      "execution_count": 257,
      "outputs": []
    },
    {
      "cell_type": "markdown",
      "metadata": {
        "id": "4VMBTd7yRQs1"
      },
      "source": [
        "Com'era prevedibile, entrambi i modelli ottengono risultati migliori sulle campagne \"successful\" rispetto a quelle \"failed\".  \n",
        "Il modello Logistic Regression ottiene valori più alti sia in Precision e Recall, sia in F1-Score."
      ]
    },
    {
      "cell_type": "code",
      "metadata": {
        "colab": {
          "base_uri": "https://localhost:8080/",
          "height": 138
        },
        "id": "huKFcis9zKi1",
        "outputId": "5dafb840-a13e-4314-e6b1-370573c2e77a"
      },
      "source": [
        "models_df = pd.DataFrame(model_metrics(name, X_val, y_val) for name,model in models.items())\n",
        "models_df.set_index(\"Name\", inplace=True)\n",
        "models_df"
      ],
      "execution_count": 258,
      "outputs": [
        {
          "output_type": "execute_result",
          "data": {
            "text/html": [
              "<div>\n",
              "<style scoped>\n",
              "    .dataframe tbody tr th:only-of-type {\n",
              "        vertical-align: middle;\n",
              "    }\n",
              "\n",
              "    .dataframe tbody tr th {\n",
              "        vertical-align: top;\n",
              "    }\n",
              "\n",
              "    .dataframe thead th {\n",
              "        text-align: right;\n",
              "    }\n",
              "</style>\n",
              "<table border=\"1\" class=\"dataframe\">\n",
              "  <thead>\n",
              "    <tr style=\"text-align: right;\">\n",
              "      <th></th>\n",
              "      <th>Training accuracy</th>\n",
              "      <th>Test accuracy</th>\n",
              "      <th>Pr(success)</th>\n",
              "      <th>Pr(failed)</th>\n",
              "      <th>Precision</th>\n",
              "      <th>R(success)</th>\n",
              "      <th>R(failed)</th>\n",
              "      <th>Recall</th>\n",
              "      <th>F1(success)</th>\n",
              "      <th>F1(failed)</th>\n",
              "      <th>F1-Score</th>\n",
              "    </tr>\n",
              "    <tr>\n",
              "      <th>Name</th>\n",
              "      <th></th>\n",
              "      <th></th>\n",
              "      <th></th>\n",
              "      <th></th>\n",
              "      <th></th>\n",
              "      <th></th>\n",
              "      <th></th>\n",
              "      <th></th>\n",
              "      <th></th>\n",
              "      <th></th>\n",
              "      <th></th>\n",
              "    </tr>\n",
              "  </thead>\n",
              "  <tbody>\n",
              "    <tr>\n",
              "      <th>Logistic Regression</th>\n",
              "      <td>0.685226</td>\n",
              "      <td>0.671280</td>\n",
              "      <td>0.688007</td>\n",
              "      <td>0.627613</td>\n",
              "      <td>0.657810</td>\n",
              "      <td>0.843673</td>\n",
              "      <td>0.407816</td>\n",
              "      <td>0.625744</td>\n",
              "      <td>0.757929</td>\n",
              "      <td>0.494386</td>\n",
              "      <td>0.626158</td>\n",
              "    </tr>\n",
              "    <tr>\n",
              "      <th>Random Forest</th>\n",
              "      <td>0.659243</td>\n",
              "      <td>0.634948</td>\n",
              "      <td>0.662685</td>\n",
              "      <td>0.572292</td>\n",
              "      <td>0.617489</td>\n",
              "      <td>0.834696</td>\n",
              "      <td>0.342361</td>\n",
              "      <td>0.588528</td>\n",
              "      <td>0.738811</td>\n",
              "      <td>0.428426</td>\n",
              "      <td>0.583618</td>\n",
              "    </tr>\n",
              "  </tbody>\n",
              "</table>\n",
              "</div>"
            ],
            "text/plain": [
              "                     Training accuracy  Test accuracy  ...  F1(failed)  F1-Score\n",
              "Name                                                   ...                      \n",
              "Logistic Regression           0.685226       0.671280  ...    0.494386  0.626158\n",
              "Random Forest                 0.659243       0.634948  ...    0.428426  0.583618\n",
              "\n",
              "[2 rows x 11 columns]"
            ]
          },
          "metadata": {
            "tags": []
          },
          "execution_count": 258
        }
      ]
    },
    {
      "cell_type": "markdown",
      "metadata": {
        "id": "qEqXVsj594_m"
      },
      "source": [
        "### Confronto con intervallo di confidenza\n",
        "Per verificare la rilevanza statistica del punteggio F1, effettuiamo un confronto con intervallo di confidenza tra Logistic Regressione e Random Forest. Utilizziamo un valore di confidenza del 95%."
      ]
    },
    {
      "cell_type": "code",
      "metadata": {
        "colab": {
          "base_uri": "https://localhost:8080/",
          "height": 0
        },
        "id": "CY2mMo3o_weV",
        "outputId": "2bd5281e-8d5b-4e4e-c15e-95948c82c13d"
      },
      "source": [
        "def difference_between_two_models(error1, error2, confidence):\n",
        "    z_half_alfa = stats.norm.ppf(confidence)\n",
        "    variance = (((1 - error1) * error1) / len(y_val)) + (((1 - error2) * error2) / len(y_val))\n",
        "    d_minus = abs(error1 - error2) - z_half_alfa * (pow(variance, 0.5))\n",
        "    d_plus = abs(error1 - error2) + z_half_alfa * (pow(variance, 0.5))\n",
        "    print(\"Valore minimo: {}\\nValore massimo: {}\\n\".format(d_minus, d_plus))\n",
        "\n",
        "logreg_error = 1 - models[\"Logistic Regression\"][\"f1_score\"]\n",
        "forest_error = 1 - models[\"Random Forest\"][\"f1_score\"]\n",
        "\n",
        "difference_between_two_models(logreg_error, forest_error, 0.95)"
      ],
      "execution_count": 259,
      "outputs": [
        {
          "output_type": "stream",
          "text": [
            "Valore minimo: 0.03781228638282471\n",
            "Valore massimo: 0.0472665140131752\n",
            "\n"
          ],
          "name": "stdout"
        }
      ]
    },
    {
      "cell_type": "code",
      "metadata": {
        "id": "snBAOHJe5G-l"
      },
      "source": [
        "models.pop(\"Random Forest\")\n",
        "logreg = models[\"Logistic Regression\"]"
      ],
      "execution_count": 260,
      "outputs": []
    },
    {
      "cell_type": "markdown",
      "metadata": {
        "id": "18l0Orjwy5gm"
      },
      "source": [
        "Proviamo ad effettuare un undersampling dei dati per bilanciare le classi da predire e ri-addestriamo il modello Logistic Regression per vedere se ciò può migliorarlo ulteriormente."
      ]
    },
    {
      "cell_type": "code",
      "metadata": {
        "colab": {
          "base_uri": "https://localhost:8080/",
          "height": 0
        },
        "id": "nePsvu1J0izh",
        "outputId": "22e33485-6408-4f1b-cb02-836a9337dbe3"
      },
      "source": [
        "ratio = 1 - status.value_counts()[0] / status.value_counts()[1]\n",
        "sample_index = status.loc[status==1].sample(frac=ratio, random_state=42).index\n",
        "data.drop(labels=sample_index, inplace=True)\n",
        "status.drop(labels=sample_index, inplace=True)\n",
        "data.reset_index(drop=True, inplace=True)\n",
        "status.reset_index(drop=True, inplace=True)\n",
        "status.value_counts()"
      ],
      "execution_count": 261,
      "outputs": [
        {
          "output_type": "execute_result",
          "data": {
            "text/plain": [
              "1    75241\n",
              "0    75241\n",
              "Name: status, dtype: int64"
            ]
          },
          "metadata": {
            "tags": []
          },
          "execution_count": 261
        }
      ]
    },
    {
      "cell_type": "code",
      "metadata": {
        "colab": {
          "base_uri": "https://localhost:8080/",
          "height": 0
        },
        "id": "LLPdbPnfEsYN",
        "outputId": "81e13483-8547-403f-a4d2-5c960c8e7a1e"
      },
      "source": [
        "%%time\n",
        "log_model = Pipeline([\n",
        "    (\"scaler\", StandardScaler()),\n",
        "    (\"lr\", LogisticRegression(solver='liblinear', random_state=42))\n",
        "])\n",
        "\n",
        "log_grid = {\n",
        "    \"scaler\": [None, StandardScaler()],\n",
        "    \"lr__penalty\": [\"l2\", \"l1\"],\n",
        "    \"lr__C\": np.logspace(-4, 2, 7),\n",
        "    \"lr__fit_intercept\": [False, True]\n",
        "}\n",
        "\n",
        "log_model, train_score, test_score = grid_search_kfold(log_model, log_grid)\n",
        "models[\"Logistic Regression balanced\"] = {\"model\" : log_model, \"train_accuracy\": train_score, \"test_accuracy\": test_score}"
      ],
      "execution_count": 262,
      "outputs": [
        {
          "output_type": "stream",
          "text": [
            "Best cross validation score: 0.6362446400361093\n",
            "\n",
            "Trainig set score: 0.6562203228869895\n",
            "\n",
            "Test set score: 0.6482300884955752\n",
            "\n",
            "Best parameters: {'lr__C': 100.0, 'lr__fit_intercept': True, 'lr__penalty': 'l1', 'scaler': StandardScaler(copy=True, with_mean=True, with_std=True)}\n",
            "\n",
            "CPU times: user 650 ms, sys: 19.3 ms, total: 669 ms\n",
            "Wall time: 2.17 s\n"
          ],
          "name": "stdout"
        }
      ]
    },
    {
      "cell_type": "code",
      "metadata": {
        "id": "XLfCZ7ylEvr7",
        "colab": {
          "base_uri": "https://localhost:8080/",
          "height": 138
        },
        "outputId": "cb664d3f-1f33-4070-8362-9f16e0800df0"
      },
      "source": [
        "models_df = pd.DataFrame(model_metrics(name, X_val, y_val) for name,model in models.items())\n",
        "models_df.set_index(\"Name\", inplace=True)\n",
        "models_df"
      ],
      "execution_count": 263,
      "outputs": [
        {
          "output_type": "execute_result",
          "data": {
            "text/html": [
              "<div>\n",
              "<style scoped>\n",
              "    .dataframe tbody tr th:only-of-type {\n",
              "        vertical-align: middle;\n",
              "    }\n",
              "\n",
              "    .dataframe tbody tr th {\n",
              "        vertical-align: top;\n",
              "    }\n",
              "\n",
              "    .dataframe thead th {\n",
              "        text-align: right;\n",
              "    }\n",
              "</style>\n",
              "<table border=\"1\" class=\"dataframe\">\n",
              "  <thead>\n",
              "    <tr style=\"text-align: right;\">\n",
              "      <th></th>\n",
              "      <th>Training accuracy</th>\n",
              "      <th>Test accuracy</th>\n",
              "      <th>Pr(success)</th>\n",
              "      <th>Pr(failed)</th>\n",
              "      <th>Precision</th>\n",
              "      <th>R(success)</th>\n",
              "      <th>R(failed)</th>\n",
              "      <th>Recall</th>\n",
              "      <th>F1(success)</th>\n",
              "      <th>F1(failed)</th>\n",
              "      <th>F1-Score</th>\n",
              "    </tr>\n",
              "    <tr>\n",
              "      <th>Name</th>\n",
              "      <th></th>\n",
              "      <th></th>\n",
              "      <th></th>\n",
              "      <th></th>\n",
              "      <th></th>\n",
              "      <th></th>\n",
              "      <th></th>\n",
              "      <th></th>\n",
              "      <th></th>\n",
              "      <th></th>\n",
              "      <th></th>\n",
              "    </tr>\n",
              "  </thead>\n",
              "  <tbody>\n",
              "    <tr>\n",
              "      <th>Logistic Regression</th>\n",
              "      <td>0.685226</td>\n",
              "      <td>0.67128</td>\n",
              "      <td>0.688007</td>\n",
              "      <td>0.627613</td>\n",
              "      <td>0.65781</td>\n",
              "      <td>0.843673</td>\n",
              "      <td>0.407816</td>\n",
              "      <td>0.625744</td>\n",
              "      <td>0.757929</td>\n",
              "      <td>0.494386</td>\n",
              "      <td>0.626158</td>\n",
              "    </tr>\n",
              "    <tr>\n",
              "      <th>Logistic Regression balanced</th>\n",
              "      <td>0.656220</td>\n",
              "      <td>0.64823</td>\n",
              "      <td>0.730976</td>\n",
              "      <td>0.551585</td>\n",
              "      <td>0.64128</td>\n",
              "      <td>0.677486</td>\n",
              "      <td>0.614061</td>\n",
              "      <td>0.645773</td>\n",
              "      <td>0.703215</td>\n",
              "      <td>0.581149</td>\n",
              "      <td>0.642182</td>\n",
              "    </tr>\n",
              "  </tbody>\n",
              "</table>\n",
              "</div>"
            ],
            "text/plain": [
              "                              Training accuracy  ...  F1-Score\n",
              "Name                                             ...          \n",
              "Logistic Regression                    0.685226  ...  0.626158\n",
              "Logistic Regression balanced           0.656220  ...  0.642182\n",
              "\n",
              "[2 rows x 11 columns]"
            ]
          },
          "metadata": {
            "tags": []
          },
          "execution_count": 263
        }
      ]
    },
    {
      "cell_type": "markdown",
      "metadata": {
        "id": "6qvz_16WrIA6"
      },
      "source": [
        "Come possiamo notare, l'accuratezza si è ridotta considerevolmente. Anche la Precision è calata a causa di una grande riduzione della Precision riguardante le campagne \"failed\". Allo stesso modo, la Recall riguardante le campagne \"failed\" è aumentata di molto. Infine, l'F1-Score è aumentato anche se non in maniera considerevole."
      ]
    },
    {
      "cell_type": "markdown",
      "metadata": {
        "id": "7-5zNTCntTDe"
      },
      "source": [
        "## Conclusioni\n",
        "In questo progetto si è esplorata la possibilità di predire il successo di una campagna Kickstarter a partire dalla categoria, dalla data di lancio, dalla durata e dalla somma di denaro richiesta. Come abbiamo potuto constatare, il modello migliore si è rivelato essere la Logistic Regression che, purtroppo, raggiunge un'accuratezza del 67%. Questo valore è decisamente troppo basso per permettere l'utilizzo di questo modello per una vera e propria previsione."
      ]
    }
  ]
}